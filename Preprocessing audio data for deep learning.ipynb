{
 "cells": [
  {
   "cell_type": "code",
   "execution_count": 2,
   "id": "fd05bb71",
   "metadata": {},
   "outputs": [],
   "source": [
    "import numpy as np\n",
    "import librosa, librosa.display\n",
    "import matplotlib.pyplot as plt\n",
    "\n",
    "mfcc_path = \"mfcc.json\"\n",
    "\n",
    "FIG_SIZE = (15,10)\n",
    "\n",
    "file_path = \"genres/blues/blues.00000.wav\"\n",
    "\n",
    "# load audio file with Librosa\n",
    "signal, sample_rate = librosa.load(file, sr=22050)"
   ]
  },
  {
   "cell_type": "code",
   "execution_count": null,
   "id": "e94eab6e",
   "metadata": {},
   "outputs": [],
   "source": [
    "\n",
    "# WAVEFORM\n",
    "# display waveform\n",
    "plt.figure(figsize=FIG_SIZE)\n",
    "librosa.display.waveplot(signal, sample_rate, alpha=0.4)\n",
    "plt.xlabel(\"Time (s)\")\n",
    "plt.ylabel(\"Amplitude\")\n",
    "plt.title(\"Waveform\")"
   ]
  },
  {
   "cell_type": "code",
   "execution_count": null,
   "id": "e03185c5",
   "metadata": {},
   "outputs": [],
   "source": [
    "# FFT -> power spectrum\n",
    "# perform Fourier transform\n",
    "fft = np.fft.fft(signal)\n",
    "\n",
    "# calculate abs values on complex numbers to get magnitude\n",
    "spectrum = np.abs(fft)\n",
    "\n",
    "# create frequency variable\n",
    "f = np.linspace(0, sample_rate, len(spectrum))\n",
    "\n",
    "# take half of the spectrum and frequency\n",
    "left_spectrum = spectrum[:int(len(spectrum)/2)]\n",
    "left_f = f[:int(len(spectrum)/2)]\n",
    "\n",
    "# plot spectrum\n",
    "plt.figure(figsize=FIG_SIZE)\n",
    "plt.plot(left_f, left_spectrum, alpha=0.4)\n",
    "plt.xlabel(\"Frequency\")\n",
    "plt.ylabel(\"Magnitude\")\n",
    "plt.title(\"Power spectrum\")\n"
   ]
  },
  {
   "cell_type": "code",
   "execution_count": null,
   "id": "981d8903",
   "metadata": {},
   "outputs": [],
   "source": [
    "# STFT -> spectrogram\n",
    "hop_length = 512 # in num. of samples\n",
    "n_fft = 2048 # window in num. of samples\n",
    "\n",
    "# calculate duration hop length and window in seconds\n",
    "hop_length_duration = float(hop_length)/sample_rate\n",
    "n_fft_duration = float(n_fft)/sample_rate\n",
    "\n",
    "print(\"STFT hop length duration is: {}s\".format(hop_length_duration))\n",
    "print(\"STFT window duration is: {}s\".format(n_fft_duration))\n",
    "\n",
    "# perform stft\n",
    "stft = librosa.stft(signal, n_fft=n_fft, hop_length=hop_length)\n",
    "\n",
    "# calculate abs values on complex numbers to get magnitude\n",
    "spectrogram = np.abs(stft)\n",
    "\n",
    "# display spectrogram\n",
    "plt.figure(figsize=FIG_SIZE)\n",
    "librosa.display.specshow(spectrogram, sr=sample_rate, hop_length=hop_length)\n",
    "plt.xlabel(\"Time\")\n",
    "plt.ylabel(\"Frequency\")\n",
    "plt.colorbar()\n",
    "plt.title(\"Spectrogram\")"
   ]
  },
  {
   "cell_type": "code",
   "execution_count": null,
   "id": "0c143c43",
   "metadata": {},
   "outputs": [],
   "source": [
    "# apply logarithm to cast amplitude to Decibels\n",
    "log_spectrogram = librosa.amplitude_to_db(spectrogram)\n",
    "\n",
    "plt.figure(figsize=FIG_SIZE)\n",
    "librosa.display.specshow(log_spectrogram, sr=sample_rate, hop_length=hop_length)\n",
    "plt.xlabel(\"Time\")\n",
    "plt.ylabel(\"Frequency\")\n",
    "plt.colorbar(format=\"%+2.0f dB\")\n",
    "plt.title(\"Spectrogram (dB)\")"
   ]
  },
  {
   "cell_type": "code",
   "execution_count": 7,
   "id": "c069c6f3",
   "metadata": {},
   "outputs": [
    {
     "name": "stdout",
     "output_type": "stream",
     "text": [
      "[[-211.48465    -208.94481    -193.90889    ... -109.999146\n",
      "   -86.84641     -79.03764   ]\n",
      " [  99.022964    101.24678     102.24396    ...  150.07935\n",
      "   138.89685     140.24707   ]\n",
      " [ -10.634699     -9.346699      1.9154348  ...  -50.795135\n",
      "   -36.613983    -31.443943  ]\n",
      " ...\n",
      " [  -2.1509948    -3.7085578    -9.185015   ...  -12.147305\n",
      "    -9.283383    -11.596716  ]\n",
      " [  -2.5450842     0.64133793   -2.1272187  ...    6.2527533\n",
      "     2.7007575     1.2497692 ]\n",
      " [  -2.3836365    -1.6919363    -3.8449044  ...    4.9566736\n",
      "    -2.6966052    -7.690168  ]]\n"
     ]
    }
   ],
   "source": [
    "# MFCCs\n",
    "# extract 13 MFCCs\n",
    "MFCCs = librosa.feature.mfcc(signal, sample_rate, n_fft=n_fft, hop_length=hop_length, n_mfcc=13)\n",
    "\n",
    "\n",
    "print(MFCCs)\n",
    "# # display MFCCs\n",
    "# plt.figure(figsize=FIG_SIZE)\n",
    "# librosa.display.specshow(MFCCs, sr=sample_rate, hop_length=hop_length)\n",
    "# plt.xlabel(\"Time\")\n",
    "# plt.ylabel(\"MFCC coefficients\")\n",
    "# plt.colorbar()\n",
    "# plt.title(\"MFCCs\")\n",
    "\n",
    "# # show plots\n",
    "# plt.show()\n",
    "\n"
   ]
  },
  {
   "cell_type": "code",
   "execution_count": null,
   "id": "c3043890",
   "metadata": {},
   "outputs": [],
   "source": [
    "="
   ]
  },
  {
   "cell_type": "code",
   "execution_count": null,
   "id": "bc5c1ce0",
   "metadata": {},
   "outputs": [],
   "source": [
    "def save_mfcc(file_path, mfcc_path, num_mfcc = 13, n_fft=2048, hop_length=512):\n",
    "    data = {\n",
    "        \"mfcc\": [],\n",
    "    }\n",
    "    mfcc = librosa.feature.mfcc(signal, sample_rate, n_fft=n_fft, hop_length=hop_length, n_mfcc=n_mfcc)\n",
    "    mfcc = mfcc.T\n",
    "    \n",
    "    data[\"mfcc\"].append(mfcc.tolist())\n",
    "\n",
    "    \n",
    "with open(mfcc_path, \"w\") as fp:\n",
    "    json.dump(data, fo, indent=4)\n",
    "    \n",
    "    \n",
    "    \n"
   ]
  },
  {
   "cell_type": "code",
   "execution_count": null,
   "id": "4cffcfc3",
   "metadata": {},
   "outputs": [],
   "source": []
  },
  {
   "cell_type": "code",
   "execution_count": null,
   "id": "b9fa51f0",
   "metadata": {},
   "outputs": [],
   "source": []
  },
  {
   "cell_type": "code",
   "execution_count": null,
   "id": "68354f0a",
   "metadata": {},
   "outputs": [],
   "source": []
  }
 ],
 "metadata": {
  "kernelspec": {
   "display_name": "Python 3.7(everything)",
   "language": "python",
   "name": "everthing"
  },
  "language_info": {
   "codemirror_mode": {
    "name": "ipython",
    "version": 3
   },
   "file_extension": ".py",
   "mimetype": "text/x-python",
   "name": "python",
   "nbconvert_exporter": "python",
   "pygments_lexer": "ipython3",
   "version": "3.8.8"
  }
 },
 "nbformat": 4,
 "nbformat_minor": 5
}
